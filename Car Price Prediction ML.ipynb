{
 "cells": [
  {
   "cell_type": "markdown",
   "id": "404f3196",
   "metadata": {},
   "source": [
    "# Car Price Prediction ML"
   ]
  },
  {
   "cell_type": "code",
   "execution_count": 1,
   "id": "192a553a",
   "metadata": {},
   "outputs": [
    {
     "data": {
      "text/html": [
       "<div>\n",
       "<style scoped>\n",
       "    .dataframe tbody tr th:only-of-type {\n",
       "        vertical-align: middle;\n",
       "    }\n",
       "\n",
       "    .dataframe tbody tr th {\n",
       "        vertical-align: top;\n",
       "    }\n",
       "\n",
       "    .dataframe thead th {\n",
       "        text-align: right;\n",
       "    }\n",
       "</style>\n",
       "<table border=\"1\" class=\"dataframe\">\n",
       "  <thead>\n",
       "    <tr style=\"text-align: right;\">\n",
       "      <th></th>\n",
       "      <th>Car_Name</th>\n",
       "      <th>Year</th>\n",
       "      <th>Selling_Price</th>\n",
       "      <th>Present_Price</th>\n",
       "      <th>Driven_kms</th>\n",
       "      <th>Fuel_Type</th>\n",
       "      <th>Selling_type</th>\n",
       "      <th>Transmission</th>\n",
       "      <th>Owner</th>\n",
       "    </tr>\n",
       "  </thead>\n",
       "  <tbody>\n",
       "    <tr>\n",
       "      <th>0</th>\n",
       "      <td>ritz</td>\n",
       "      <td>2014</td>\n",
       "      <td>3.35</td>\n",
       "      <td>5.59</td>\n",
       "      <td>27000</td>\n",
       "      <td>Petrol</td>\n",
       "      <td>Dealer</td>\n",
       "      <td>Manual</td>\n",
       "      <td>0</td>\n",
       "    </tr>\n",
       "    <tr>\n",
       "      <th>1</th>\n",
       "      <td>sx4</td>\n",
       "      <td>2013</td>\n",
       "      <td>4.75</td>\n",
       "      <td>9.54</td>\n",
       "      <td>43000</td>\n",
       "      <td>Diesel</td>\n",
       "      <td>Dealer</td>\n",
       "      <td>Manual</td>\n",
       "      <td>0</td>\n",
       "    </tr>\n",
       "    <tr>\n",
       "      <th>2</th>\n",
       "      <td>ciaz</td>\n",
       "      <td>2017</td>\n",
       "      <td>7.25</td>\n",
       "      <td>9.85</td>\n",
       "      <td>6900</td>\n",
       "      <td>Petrol</td>\n",
       "      <td>Dealer</td>\n",
       "      <td>Manual</td>\n",
       "      <td>0</td>\n",
       "    </tr>\n",
       "    <tr>\n",
       "      <th>3</th>\n",
       "      <td>wagon r</td>\n",
       "      <td>2011</td>\n",
       "      <td>2.85</td>\n",
       "      <td>4.15</td>\n",
       "      <td>5200</td>\n",
       "      <td>Petrol</td>\n",
       "      <td>Dealer</td>\n",
       "      <td>Manual</td>\n",
       "      <td>0</td>\n",
       "    </tr>\n",
       "    <tr>\n",
       "      <th>4</th>\n",
       "      <td>swift</td>\n",
       "      <td>2014</td>\n",
       "      <td>4.60</td>\n",
       "      <td>6.87</td>\n",
       "      <td>42450</td>\n",
       "      <td>Diesel</td>\n",
       "      <td>Dealer</td>\n",
       "      <td>Manual</td>\n",
       "      <td>0</td>\n",
       "    </tr>\n",
       "    <tr>\n",
       "      <th>5</th>\n",
       "      <td>vitara brezza</td>\n",
       "      <td>2018</td>\n",
       "      <td>9.25</td>\n",
       "      <td>9.83</td>\n",
       "      <td>2071</td>\n",
       "      <td>Diesel</td>\n",
       "      <td>Dealer</td>\n",
       "      <td>Manual</td>\n",
       "      <td>0</td>\n",
       "    </tr>\n",
       "    <tr>\n",
       "      <th>6</th>\n",
       "      <td>ciaz</td>\n",
       "      <td>2015</td>\n",
       "      <td>6.75</td>\n",
       "      <td>8.12</td>\n",
       "      <td>18796</td>\n",
       "      <td>Petrol</td>\n",
       "      <td>Dealer</td>\n",
       "      <td>Manual</td>\n",
       "      <td>0</td>\n",
       "    </tr>\n",
       "    <tr>\n",
       "      <th>7</th>\n",
       "      <td>s cross</td>\n",
       "      <td>2015</td>\n",
       "      <td>6.50</td>\n",
       "      <td>8.61</td>\n",
       "      <td>33429</td>\n",
       "      <td>Diesel</td>\n",
       "      <td>Dealer</td>\n",
       "      <td>Manual</td>\n",
       "      <td>0</td>\n",
       "    </tr>\n",
       "    <tr>\n",
       "      <th>8</th>\n",
       "      <td>ciaz</td>\n",
       "      <td>2016</td>\n",
       "      <td>8.75</td>\n",
       "      <td>8.89</td>\n",
       "      <td>20273</td>\n",
       "      <td>Diesel</td>\n",
       "      <td>Dealer</td>\n",
       "      <td>Manual</td>\n",
       "      <td>0</td>\n",
       "    </tr>\n",
       "    <tr>\n",
       "      <th>9</th>\n",
       "      <td>ciaz</td>\n",
       "      <td>2015</td>\n",
       "      <td>7.45</td>\n",
       "      <td>8.92</td>\n",
       "      <td>42367</td>\n",
       "      <td>Diesel</td>\n",
       "      <td>Dealer</td>\n",
       "      <td>Manual</td>\n",
       "      <td>0</td>\n",
       "    </tr>\n",
       "  </tbody>\n",
       "</table>\n",
       "</div>"
      ],
      "text/plain": [
       "        Car_Name  Year  Selling_Price  Present_Price  Driven_kms Fuel_Type  \\\n",
       "0           ritz  2014           3.35           5.59       27000    Petrol   \n",
       "1            sx4  2013           4.75           9.54       43000    Diesel   \n",
       "2           ciaz  2017           7.25           9.85        6900    Petrol   \n",
       "3        wagon r  2011           2.85           4.15        5200    Petrol   \n",
       "4          swift  2014           4.60           6.87       42450    Diesel   \n",
       "5  vitara brezza  2018           9.25           9.83        2071    Diesel   \n",
       "6           ciaz  2015           6.75           8.12       18796    Petrol   \n",
       "7        s cross  2015           6.50           8.61       33429    Diesel   \n",
       "8           ciaz  2016           8.75           8.89       20273    Diesel   \n",
       "9           ciaz  2015           7.45           8.92       42367    Diesel   \n",
       "\n",
       "  Selling_type Transmission  Owner  \n",
       "0       Dealer       Manual      0  \n",
       "1       Dealer       Manual      0  \n",
       "2       Dealer       Manual      0  \n",
       "3       Dealer       Manual      0  \n",
       "4       Dealer       Manual      0  \n",
       "5       Dealer       Manual      0  \n",
       "6       Dealer       Manual      0  \n",
       "7       Dealer       Manual      0  \n",
       "8       Dealer       Manual      0  \n",
       "9       Dealer       Manual      0  "
      ]
     },
     "execution_count": 1,
     "metadata": {},
     "output_type": "execute_result"
    }
   ],
   "source": [
    "import pandas as pd\n",
    "data = pd.read_csv('C:\\\\Users\\\\HP\\\\Downloads\\\\archive (19)\\\\car data.csv')\n",
    "data.head(10)\n"
   ]
  },
  {
   "cell_type": "code",
   "execution_count": 2,
   "id": "b2c43593",
   "metadata": {},
   "outputs": [
    {
     "data": {
      "text/html": [
       "<div>\n",
       "<style scoped>\n",
       "    .dataframe tbody tr th:only-of-type {\n",
       "        vertical-align: middle;\n",
       "    }\n",
       "\n",
       "    .dataframe tbody tr th {\n",
       "        vertical-align: top;\n",
       "    }\n",
       "\n",
       "    .dataframe thead th {\n",
       "        text-align: right;\n",
       "    }\n",
       "</style>\n",
       "<table border=\"1\" class=\"dataframe\">\n",
       "  <thead>\n",
       "    <tr style=\"text-align: right;\">\n",
       "      <th></th>\n",
       "      <th>Year</th>\n",
       "      <th>Selling_Price</th>\n",
       "      <th>Present_Price</th>\n",
       "      <th>Driven_kms</th>\n",
       "      <th>Owner</th>\n",
       "    </tr>\n",
       "  </thead>\n",
       "  <tbody>\n",
       "    <tr>\n",
       "      <th>count</th>\n",
       "      <td>301.000000</td>\n",
       "      <td>301.000000</td>\n",
       "      <td>301.000000</td>\n",
       "      <td>301.000000</td>\n",
       "      <td>301.000000</td>\n",
       "    </tr>\n",
       "    <tr>\n",
       "      <th>mean</th>\n",
       "      <td>2013.627907</td>\n",
       "      <td>4.661296</td>\n",
       "      <td>7.628472</td>\n",
       "      <td>36947.205980</td>\n",
       "      <td>0.043189</td>\n",
       "    </tr>\n",
       "    <tr>\n",
       "      <th>std</th>\n",
       "      <td>2.891554</td>\n",
       "      <td>5.082812</td>\n",
       "      <td>8.642584</td>\n",
       "      <td>38886.883882</td>\n",
       "      <td>0.247915</td>\n",
       "    </tr>\n",
       "    <tr>\n",
       "      <th>min</th>\n",
       "      <td>2003.000000</td>\n",
       "      <td>0.100000</td>\n",
       "      <td>0.320000</td>\n",
       "      <td>500.000000</td>\n",
       "      <td>0.000000</td>\n",
       "    </tr>\n",
       "    <tr>\n",
       "      <th>25%</th>\n",
       "      <td>2012.000000</td>\n",
       "      <td>0.900000</td>\n",
       "      <td>1.200000</td>\n",
       "      <td>15000.000000</td>\n",
       "      <td>0.000000</td>\n",
       "    </tr>\n",
       "    <tr>\n",
       "      <th>50%</th>\n",
       "      <td>2014.000000</td>\n",
       "      <td>3.600000</td>\n",
       "      <td>6.400000</td>\n",
       "      <td>32000.000000</td>\n",
       "      <td>0.000000</td>\n",
       "    </tr>\n",
       "    <tr>\n",
       "      <th>75%</th>\n",
       "      <td>2016.000000</td>\n",
       "      <td>6.000000</td>\n",
       "      <td>9.900000</td>\n",
       "      <td>48767.000000</td>\n",
       "      <td>0.000000</td>\n",
       "    </tr>\n",
       "    <tr>\n",
       "      <th>max</th>\n",
       "      <td>2018.000000</td>\n",
       "      <td>35.000000</td>\n",
       "      <td>92.600000</td>\n",
       "      <td>500000.000000</td>\n",
       "      <td>3.000000</td>\n",
       "    </tr>\n",
       "  </tbody>\n",
       "</table>\n",
       "</div>"
      ],
      "text/plain": [
       "              Year  Selling_Price  Present_Price     Driven_kms       Owner\n",
       "count   301.000000     301.000000     301.000000     301.000000  301.000000\n",
       "mean   2013.627907       4.661296       7.628472   36947.205980    0.043189\n",
       "std       2.891554       5.082812       8.642584   38886.883882    0.247915\n",
       "min    2003.000000       0.100000       0.320000     500.000000    0.000000\n",
       "25%    2012.000000       0.900000       1.200000   15000.000000    0.000000\n",
       "50%    2014.000000       3.600000       6.400000   32000.000000    0.000000\n",
       "75%    2016.000000       6.000000       9.900000   48767.000000    0.000000\n",
       "max    2018.000000      35.000000      92.600000  500000.000000    3.000000"
      ]
     },
     "execution_count": 2,
     "metadata": {},
     "output_type": "execute_result"
    }
   ],
   "source": [
    "data.describe()"
   ]
  },
  {
   "cell_type": "code",
   "execution_count": 3,
   "id": "ab95e2e7",
   "metadata": {},
   "outputs": [
    {
     "data": {
      "text/plain": [
       "array(['Petrol', 'Diesel', 'CNG'], dtype=object)"
      ]
     },
     "execution_count": 3,
     "metadata": {},
     "output_type": "execute_result"
    }
   ],
   "source": [
    "data['Fuel_Type'].unique()"
   ]
  },
  {
   "cell_type": "code",
   "execution_count": 4,
   "id": "f1fc47eb",
   "metadata": {},
   "outputs": [
    {
     "data": {
      "text/plain": [
       "Car_Name         0\n",
       "Year             0\n",
       "Selling_Price    0\n",
       "Present_Price    0\n",
       "Driven_kms       0\n",
       "Fuel_Type        0\n",
       "Selling_type     0\n",
       "Transmission     0\n",
       "Owner            0\n",
       "dtype: int64"
      ]
     },
     "execution_count": 4,
     "metadata": {},
     "output_type": "execute_result"
    }
   ],
   "source": [
    "data.isnull().sum()"
   ]
  },
  {
   "cell_type": "code",
   "execution_count": 5,
   "id": "b600db6a",
   "metadata": {},
   "outputs": [
    {
     "name": "stdout",
     "output_type": "stream",
     "text": [
      "<class 'pandas.core.frame.DataFrame'>\n",
      "RangeIndex: 301 entries, 0 to 300\n",
      "Data columns (total 9 columns):\n",
      " #   Column         Non-Null Count  Dtype  \n",
      "---  ------         --------------  -----  \n",
      " 0   Car_Name       301 non-null    object \n",
      " 1   Year           301 non-null    int64  \n",
      " 2   Selling_Price  301 non-null    float64\n",
      " 3   Present_Price  301 non-null    float64\n",
      " 4   Driven_kms     301 non-null    int64  \n",
      " 5   Fuel_Type      301 non-null    object \n",
      " 6   Selling_type   301 non-null    object \n",
      " 7   Transmission   301 non-null    object \n",
      " 8   Owner          301 non-null    int64  \n",
      "dtypes: float64(2), int64(3), object(4)\n",
      "memory usage: 21.3+ KB\n"
     ]
    }
   ],
   "source": [
    "data.info()"
   ]
  },
  {
   "cell_type": "code",
   "execution_count": 6,
   "id": "78c39826",
   "metadata": {},
   "outputs": [],
   "source": [
    "from sklearn import preprocessing\n",
    "# Categorizing the data with three or less \n",
    "le=preprocessing.LabelEncoder()"
   ]
  },
  {
   "cell_type": "code",
   "execution_count": 7,
   "id": "f56ea556",
   "metadata": {},
   "outputs": [],
   "source": [
    "encoded_fuel= le.fit_transform(data['Fuel_Type'])\n",
    "encoded_transmission= le.fit_transform(data['Transmission'])\n",
    "encoded_selling= le.fit_transform(data['Selling_type'])"
   ]
  },
  {
   "cell_type": "code",
   "execution_count": 8,
   "id": "ef370373",
   "metadata": {},
   "outputs": [],
   "source": [
    "data['Fuel_encoded']=encoded_fuel\n",
    "data['Transmission_encoded']=encoded_transmission\n",
    "data['Sellingtype_encoded']=encoded_selling"
   ]
  },
  {
   "cell_type": "code",
   "execution_count": 9,
   "id": "3d421285",
   "metadata": {},
   "outputs": [],
   "source": [
    "data.drop(['Transmission','Selling_type','Fuel_Type','Car_Name'], axis=1,inplace=True)"
   ]
  },
  {
   "cell_type": "code",
   "execution_count": 10,
   "id": "ae072bbc",
   "metadata": {},
   "outputs": [
    {
     "data": {
      "text/html": [
       "<div>\n",
       "<style scoped>\n",
       "    .dataframe tbody tr th:only-of-type {\n",
       "        vertical-align: middle;\n",
       "    }\n",
       "\n",
       "    .dataframe tbody tr th {\n",
       "        vertical-align: top;\n",
       "    }\n",
       "\n",
       "    .dataframe thead th {\n",
       "        text-align: right;\n",
       "    }\n",
       "</style>\n",
       "<table border=\"1\" class=\"dataframe\">\n",
       "  <thead>\n",
       "    <tr style=\"text-align: right;\">\n",
       "      <th></th>\n",
       "      <th>Year</th>\n",
       "      <th>Selling_Price</th>\n",
       "      <th>Present_Price</th>\n",
       "      <th>Driven_kms</th>\n",
       "      <th>Owner</th>\n",
       "      <th>Fuel_encoded</th>\n",
       "      <th>Transmission_encoded</th>\n",
       "      <th>Sellingtype_encoded</th>\n",
       "    </tr>\n",
       "  </thead>\n",
       "  <tbody>\n",
       "    <tr>\n",
       "      <th>0</th>\n",
       "      <td>2014</td>\n",
       "      <td>3</td>\n",
       "      <td>6</td>\n",
       "      <td>27000</td>\n",
       "      <td>0</td>\n",
       "      <td>2</td>\n",
       "      <td>1</td>\n",
       "      <td>0</td>\n",
       "    </tr>\n",
       "    <tr>\n",
       "      <th>1</th>\n",
       "      <td>2013</td>\n",
       "      <td>5</td>\n",
       "      <td>10</td>\n",
       "      <td>43000</td>\n",
       "      <td>0</td>\n",
       "      <td>1</td>\n",
       "      <td>1</td>\n",
       "      <td>0</td>\n",
       "    </tr>\n",
       "    <tr>\n",
       "      <th>2</th>\n",
       "      <td>2017</td>\n",
       "      <td>7</td>\n",
       "      <td>10</td>\n",
       "      <td>6900</td>\n",
       "      <td>0</td>\n",
       "      <td>2</td>\n",
       "      <td>1</td>\n",
       "      <td>0</td>\n",
       "    </tr>\n",
       "    <tr>\n",
       "      <th>3</th>\n",
       "      <td>2011</td>\n",
       "      <td>3</td>\n",
       "      <td>4</td>\n",
       "      <td>5200</td>\n",
       "      <td>0</td>\n",
       "      <td>2</td>\n",
       "      <td>1</td>\n",
       "      <td>0</td>\n",
       "    </tr>\n",
       "    <tr>\n",
       "      <th>4</th>\n",
       "      <td>2014</td>\n",
       "      <td>5</td>\n",
       "      <td>7</td>\n",
       "      <td>42450</td>\n",
       "      <td>0</td>\n",
       "      <td>1</td>\n",
       "      <td>1</td>\n",
       "      <td>0</td>\n",
       "    </tr>\n",
       "  </tbody>\n",
       "</table>\n",
       "</div>"
      ],
      "text/plain": [
       "   Year  Selling_Price  Present_Price  Driven_kms  Owner  Fuel_encoded  \\\n",
       "0  2014              3              6       27000      0             2   \n",
       "1  2013              5             10       43000      0             1   \n",
       "2  2017              7             10        6900      0             2   \n",
       "3  2011              3              4        5200      0             2   \n",
       "4  2014              5              7       42450      0             1   \n",
       "\n",
       "   Transmission_encoded  Sellingtype_encoded  \n",
       "0                     1                    0  \n",
       "1                     1                    0  \n",
       "2                     1                    0  \n",
       "3                     1                    0  \n",
       "4                     1                    0  "
      ]
     },
     "execution_count": 10,
     "metadata": {},
     "output_type": "execute_result"
    }
   ],
   "source": [
    "data['Selling_Price'] = data['Selling_Price'].round().astype(int)\n",
    "data['Present_Price'] = data['Present_Price'].round().astype(int)\n",
    "data.head()"
   ]
  },
  {
   "cell_type": "code",
   "execution_count": 11,
   "id": "d90107b1",
   "metadata": {},
   "outputs": [],
   "source": [
    "# Import the package for splitting dataset\n",
    "\n",
    "from sklearn.model_selection import train_test_split"
   ]
  },
  {
   "cell_type": "code",
   "execution_count": 12,
   "id": "4092d111",
   "metadata": {},
   "outputs": [
    {
     "data": {
      "text/plain": [
       "Index(['Year', 'Selling_Price', 'Present_Price', 'Driven_kms', 'Owner',\n",
       "       'Fuel_encoded', 'Transmission_encoded', 'Sellingtype_encoded'],\n",
       "      dtype='object')"
      ]
     },
     "execution_count": 12,
     "metadata": {},
     "output_type": "execute_result"
    }
   ],
   "source": [
    "data.columns"
   ]
  },
  {
   "cell_type": "code",
   "execution_count": 13,
   "id": "cf3ebe54",
   "metadata": {},
   "outputs": [],
   "source": [
    "X = data[['Year','Selling_Price','Driven_kms','Owner','Fuel_encoded','Transmission_encoded','Sellingtype_encoded']]\n",
    "y = data[['Present_Price']]"
   ]
  },
  {
   "cell_type": "code",
   "execution_count": 14,
   "id": "96c4183b",
   "metadata": {},
   "outputs": [],
   "source": [
    "# train_test_split(X,y,train_size=0.8)  # Percentage of the data I'd want (That is 400 samples)\n",
    "X_train,X_test,y_train,y_test = train_test_split(X,y,test_size=0.2,random_state=42)"
   ]
  },
  {
   "cell_type": "code",
   "execution_count": 15,
   "id": "8c9cd9ac",
   "metadata": {},
   "outputs": [],
   "source": [
    "from sklearn.preprocessing import StandardScaler"
   ]
  },
  {
   "cell_type": "code",
   "execution_count": 16,
   "id": "330501a4",
   "metadata": {},
   "outputs": [],
   "source": [
    "sc= StandardScaler()\n",
    "X_train =sc.fit_transform(X_train)"
   ]
  },
  {
   "cell_type": "code",
   "execution_count": 17,
   "id": "99b05c89",
   "metadata": {},
   "outputs": [
    {
     "data": {
      "text/plain": [
       "array([[-1.96986094, -0.88504165, -0.27555466, ...,  0.48236665,\n",
       "         0.37796447,  1.33816952],\n",
       "       [ 1.15644297, -0.69211704, -0.81428242, ...,  0.48236665,\n",
       "         0.37796447,  1.33816952],\n",
       "       [-1.96986094, -0.88504165,  0.29908829, ...,  0.48236665,\n",
       "         0.37796447,  1.33816952],\n",
       "       ...,\n",
       "       [ 0.11434167, -0.69211704, -0.50301749, ...,  0.48236665,\n",
       "         0.37796447,  1.33816952],\n",
       "       [-0.92775963, -0.11334321,  0.76217867, ...,  0.48236665,\n",
       "         0.37796447, -0.74728947],\n",
       "       [ 1.15644297, -0.49919243, -0.8023107 , ...,  0.48236665,\n",
       "         0.37796447,  1.33816952]])"
      ]
     },
     "execution_count": 17,
     "metadata": {},
     "output_type": "execute_result"
    }
   ],
   "source": [
    "# Confirming that the scaling has occurred\n",
    "X_train"
   ]
  },
  {
   "cell_type": "code",
   "execution_count": 18,
   "id": "d3e73c3c",
   "metadata": {},
   "outputs": [],
   "source": [
    "X_test=sc.transform(X_test)"
   ]
  },
  {
   "cell_type": "code",
   "execution_count": 19,
   "id": "b75b499c",
   "metadata": {},
   "outputs": [
    {
     "data": {
      "text/plain": [
       "array([[ 0.80907587, -0.88504165, -0.32344157, -0.18569534,  0.48236665,\n",
       "        -2.64575131,  1.33816952],\n",
       "       [ 0.80907587,  1.04420446, -0.63518537, -0.18569534,  0.48236665,\n",
       "         0.37796447, -0.74728947],\n",
       "       [-0.58039253,  0.0795814 ,  0.53852285, -0.18569534, -1.88024551,\n",
       "         0.37796447, -0.74728947],\n",
       "       [-0.92775963, -0.88504165, -0.06006356,  3.52821143,  0.48236665,\n",
       "         0.37796447,  1.33816952],\n",
       "       [-0.23302543,  0.46543062,  0.05967767, -0.18569534,  0.48236665,\n",
       "         0.37796447, -0.74728947],\n",
       "       [ 0.46170877,  0.46543062,  0.11632788, -0.18569534, -1.88024551,\n",
       "         0.37796447, -0.74728947],\n",
       "       [ 0.46170877, -0.69211704, -0.27555466, -0.18569534,  0.48236665,\n",
       "         0.37796447,  1.33816952],\n",
       "       [ 0.11434167, -0.88504165, -0.70653687, -0.18569534,  0.48236665,\n",
       "         0.37796447,  1.33816952],\n",
       "       [ 0.80907587, -0.88504165, -0.56287614, -0.18569534,  0.48236665,\n",
       "         0.37796447,  1.33816952],\n",
       "       [ 0.11434167,  0.27250601,  0.179371  , -0.18569534, -1.88024551,\n",
       "         0.37796447, -0.74728947],\n",
       "       [ 1.50381007,  0.85127985, -0.84849762, -0.18569534, -1.88024551,\n",
       "         0.37796447, -0.74728947],\n",
       "       [-0.23302543, -0.69211704, -0.10795047, -0.18569534,  0.48236665,\n",
       "         0.37796447,  1.33816952],\n",
       "       [ 0.11434167,  0.65835524, -0.53893268, -0.18569534,  0.48236665,\n",
       "        -2.64575131, -0.74728947],\n",
       "       [ 1.15644297, -0.88504165, -0.86695803, -0.18569534,  0.48236665,\n",
       "        -2.64575131,  1.33816952],\n",
       "       [-0.23302543,  0.27250601,  0.179371  , -0.18569534, -1.88024551,\n",
       "         0.37796447, -0.74728947],\n",
       "       [-0.23302543, -0.30626782,  0.64703459, -0.18569534,  0.48236665,\n",
       "         0.37796447, -0.74728947],\n",
       "       [-0.58039253, -0.69211704, -0.62273478, -0.18569534,  0.48236665,\n",
       "         0.37796447,  1.33816952],\n",
       "       [ 1.15644297,  2.39467674, -0.68977645, -0.18569534,  0.48236665,\n",
       "         0.37796447, -0.74728947],\n",
       "       [ 1.15644297, -0.88504165, -0.6921708 , -0.18569534,  0.48236665,\n",
       "         0.37796447,  1.33816952],\n",
       "       [ 1.15644297, -0.49919243, -0.86456368, -0.18569534,  0.48236665,\n",
       "         0.37796447,  1.33816952],\n",
       "       [-0.23302543, -0.88504165, -0.61076305, -0.18569534,  0.48236665,\n",
       "         0.37796447,  1.33816952],\n",
       "       [ 0.80907587,  0.65835524, -0.43276739, -0.18569534, -1.88024551,\n",
       "         0.37796447, -0.74728947],\n",
       "       [-0.58039253,  0.0795814 , -0.12418413, -0.18569534, -1.88024551,\n",
       "         0.37796447, -0.74728947],\n",
       "       [-0.92775963, -0.30626782, -0.4192154 , -0.18569534,  0.48236665,\n",
       "         0.37796447, -0.74728947],\n",
       "       [ 0.11434167, -0.69211704, -0.29949812, -0.18569534,  0.48236665,\n",
       "         0.37796447,  1.33816952],\n",
       "       [-0.58039253, -0.11334321, -0.06006356, -0.18569534,  0.48236665,\n",
       "         0.37796447, -0.74728947],\n",
       "       [-0.23302543,  0.0795814 ,  0.45953339, -0.18569534,  0.48236665,\n",
       "         0.37796447, -0.74728947],\n",
       "       [-0.92775963, -0.30626782,  0.13148409, -0.18569534,  0.48236665,\n",
       "         0.37796447, -0.74728947],\n",
       "       [ 1.15644297, -0.69211704, -0.6347065 , -0.18569534,  0.48236665,\n",
       "         0.37796447,  1.33816952],\n",
       "       [ 0.80907587, -0.69211704, -0.46710231, -0.18569534,  0.48236665,\n",
       "         0.37796447,  1.33816952],\n",
       "       [-0.23302543, -0.69211704, -0.51498922, -0.18569534,  0.48236665,\n",
       "         0.37796447,  1.33816952],\n",
       "       [ 0.11434167,  0.65835524,  0.61035322, -0.18569534, -1.88024551,\n",
       "         0.37796447, -0.74728947],\n",
       "       [-1.27512673, -0.88504165, -0.25161121, -0.18569534,  0.48236665,\n",
       "         0.37796447,  1.33816952],\n",
       "       [-1.96986094, -0.49919243,  0.49063593, -0.18569534,  0.48236665,\n",
       "         0.37796447, -0.74728947],\n",
       "       [ 0.80907587,  0.65835524,  0.13148409, -0.18569534, -1.88024551,\n",
       "         0.37796447, -0.74728947],\n",
       "       [ 0.11434167, -0.11334321, -0.06006356, -0.18569534,  0.48236665,\n",
       "         0.37796447, -0.74728947],\n",
       "       [-0.23302543,  0.27250601,  0.82584432, -0.18569534,  0.48236665,\n",
       "         0.37796447, -0.74728947],\n",
       "       [-1.62249383, -0.11334321,  0.58640976, -0.18569534,  0.48236665,\n",
       "         0.37796447, -0.74728947],\n",
       "       [-0.23302543, -0.30626782,  0.46379532, -0.18569534,  0.48236665,\n",
       "         0.37796447, -0.74728947],\n",
       "       [-1.27512673,  0.0795814 ,  0.29908829, -0.18569534,  0.48236665,\n",
       "         0.37796447, -0.74728947],\n",
       "       [-3.01196224, -0.11334321,  0.89767469, -0.18569534,  0.48236665,\n",
       "         0.37796447, -0.74728947],\n",
       "       [-3.35932934, -0.49919243,  2.33796935, -0.18569534,  0.48236665,\n",
       "        -2.64575131, -0.74728947],\n",
       "       [ 0.11434167, -0.11334321, -0.44315885, -0.18569534,  0.48236665,\n",
       "         0.37796447, -0.74728947],\n",
       "       [ 0.11434167, -0.88504165,  0.10754064, -0.18569534,  0.48236665,\n",
       "         0.37796447,  1.33816952],\n",
       "       [ 0.46170877,  0.27250601, -0.09767873, -0.18569534, -1.88024551,\n",
       "         0.37796447, -0.74728947],\n",
       "       [-0.23302543, -0.69211704, -0.13189392, -0.18569534,  0.48236665,\n",
       "         0.37796447,  1.33816952],\n",
       "       [ 0.11434167,  0.27250601,  0.0626706 , -0.18569534,  0.48236665,\n",
       "         0.37796447, -0.74728947],\n",
       "       [-1.27512673,  0.0795814 ,  1.01739197, -0.18569534,  0.48236665,\n",
       "        -2.64575131, -0.74728947],\n",
       "       [-0.23302543, -0.11334321, -0.17978084, -0.18569534,  0.48236665,\n",
       "         0.37796447, -0.74728947],\n",
       "       [-0.58039253, -0.30626782,  0.35013573, -0.18569534, -1.88024551,\n",
       "         0.37796447, -0.74728947],\n",
       "       [-0.23302543,  0.0795814 , -0.0313793 , -0.18569534,  0.48236665,\n",
       "        -2.64575131, -0.74728947],\n",
       "       [ 1.15644297, -0.69211704, -0.79991635, -0.18569534,  0.48236665,\n",
       "         0.37796447,  1.33816952],\n",
       "       [ 0.46170877,  3.74514902,  0.22725792, -0.18569534, -1.88024551,\n",
       "        -2.64575131, -0.74728947],\n",
       "       [ 1.15644297,  3.55222441, -0.53893268, -0.18569534, -1.88024551,\n",
       "        -2.64575131, -0.74728947],\n",
       "       [ 0.46170877,  0.65835524,  0.57158876, -0.18569534, -1.88024551,\n",
       "         0.37796447, -0.74728947],\n",
       "       [ 0.80907587,  1.23712907, -0.16175141, -0.18569534,  0.48236665,\n",
       "        -2.64575131, -0.74728947],\n",
       "       [ 0.46170877,  0.27250601, -0.79053052, -0.18569534,  0.48236665,\n",
       "         0.37796447, -0.74728947],\n",
       "       [ 0.80907587,  1.04420446, -0.08429433, -0.18569534, -1.88024551,\n",
       "         0.37796447, -0.74728947],\n",
       "       [-2.66459514, -0.49919243,  0.3100065 , -0.18569534,  0.48236665,\n",
       "         0.37796447, -0.74728947],\n",
       "       [ 0.80907587,  0.46543062, -0.53752002, -0.18569534,  0.48236665,\n",
       "        -2.64575131, -0.74728947],\n",
       "       [-0.23302543, -0.88504165, -0.17978084, -0.18569534,  0.48236665,\n",
       "         0.37796447,  1.33816952]])"
      ]
     },
     "execution_count": 19,
     "metadata": {},
     "output_type": "execute_result"
    }
   ],
   "source": [
    "X_test"
   ]
  },
  {
   "cell_type": "code",
   "execution_count": 20,
   "id": "583530a7",
   "metadata": {},
   "outputs": [],
   "source": [
    "from sklearn.linear_model import LinearRegression"
   ]
  },
  {
   "cell_type": "code",
   "execution_count": 21,
   "id": "db54abdd",
   "metadata": {},
   "outputs": [],
   "source": [
    "# giving a variable name to our algorithm\n",
    "lr= LinearRegression()"
   ]
  },
  {
   "cell_type": "code",
   "execution_count": 22,
   "id": "cb83e102",
   "metadata": {},
   "outputs": [
    {
     "data": {
      "text/plain": [
       "LinearRegression()"
      ]
     },
     "execution_count": 22,
     "metadata": {},
     "output_type": "execute_result"
    }
   ],
   "source": [
    "lr.fit(X_train, y_train)"
   ]
  },
  {
   "cell_type": "code",
   "execution_count": 23,
   "id": "264f33dd",
   "metadata": {},
   "outputs": [
    {
     "data": {
      "text/html": [
       "<div>\n",
       "<style scoped>\n",
       "    .dataframe tbody tr th:only-of-type {\n",
       "        vertical-align: middle;\n",
       "    }\n",
       "\n",
       "    .dataframe tbody tr th {\n",
       "        vertical-align: top;\n",
       "    }\n",
       "\n",
       "    .dataframe thead th {\n",
       "        text-align: right;\n",
       "    }\n",
       "</style>\n",
       "<table border=\"1\" class=\"dataframe\">\n",
       "  <thead>\n",
       "    <tr style=\"text-align: right;\">\n",
       "      <th></th>\n",
       "      <th>Year</th>\n",
       "      <th>Selling_Price</th>\n",
       "      <th>Present_Price</th>\n",
       "      <th>Driven_kms</th>\n",
       "      <th>Owner</th>\n",
       "      <th>Fuel_encoded</th>\n",
       "      <th>Transmission_encoded</th>\n",
       "      <th>Sellingtype_encoded</th>\n",
       "    </tr>\n",
       "  </thead>\n",
       "  <tbody>\n",
       "    <tr>\n",
       "      <th>count</th>\n",
       "      <td>301.000000</td>\n",
       "      <td>301.000000</td>\n",
       "      <td>301.000000</td>\n",
       "      <td>301.000000</td>\n",
       "      <td>301.000000</td>\n",
       "      <td>301.000000</td>\n",
       "      <td>301.000000</td>\n",
       "      <td>301.000000</td>\n",
       "    </tr>\n",
       "    <tr>\n",
       "      <th>mean</th>\n",
       "      <td>2013.627907</td>\n",
       "      <td>4.611296</td>\n",
       "      <td>7.710963</td>\n",
       "      <td>36947.205980</td>\n",
       "      <td>0.043189</td>\n",
       "      <td>1.787375</td>\n",
       "      <td>0.867110</td>\n",
       "      <td>0.352159</td>\n",
       "    </tr>\n",
       "    <tr>\n",
       "      <th>std</th>\n",
       "      <td>2.891554</td>\n",
       "      <td>5.129497</td>\n",
       "      <td>8.649827</td>\n",
       "      <td>38886.883882</td>\n",
       "      <td>0.247915</td>\n",
       "      <td>0.425801</td>\n",
       "      <td>0.340021</td>\n",
       "      <td>0.478439</td>\n",
       "    </tr>\n",
       "    <tr>\n",
       "      <th>min</th>\n",
       "      <td>2003.000000</td>\n",
       "      <td>0.000000</td>\n",
       "      <td>0.000000</td>\n",
       "      <td>500.000000</td>\n",
       "      <td>0.000000</td>\n",
       "      <td>0.000000</td>\n",
       "      <td>0.000000</td>\n",
       "      <td>0.000000</td>\n",
       "    </tr>\n",
       "    <tr>\n",
       "      <th>25%</th>\n",
       "      <td>2012.000000</td>\n",
       "      <td>1.000000</td>\n",
       "      <td>1.000000</td>\n",
       "      <td>15000.000000</td>\n",
       "      <td>0.000000</td>\n",
       "      <td>2.000000</td>\n",
       "      <td>1.000000</td>\n",
       "      <td>0.000000</td>\n",
       "    </tr>\n",
       "    <tr>\n",
       "      <th>50%</th>\n",
       "      <td>2014.000000</td>\n",
       "      <td>4.000000</td>\n",
       "      <td>6.000000</td>\n",
       "      <td>32000.000000</td>\n",
       "      <td>0.000000</td>\n",
       "      <td>2.000000</td>\n",
       "      <td>1.000000</td>\n",
       "      <td>0.000000</td>\n",
       "    </tr>\n",
       "    <tr>\n",
       "      <th>75%</th>\n",
       "      <td>2016.000000</td>\n",
       "      <td>6.000000</td>\n",
       "      <td>10.000000</td>\n",
       "      <td>48767.000000</td>\n",
       "      <td>0.000000</td>\n",
       "      <td>2.000000</td>\n",
       "      <td>1.000000</td>\n",
       "      <td>1.000000</td>\n",
       "    </tr>\n",
       "    <tr>\n",
       "      <th>max</th>\n",
       "      <td>2018.000000</td>\n",
       "      <td>35.000000</td>\n",
       "      <td>93.000000</td>\n",
       "      <td>500000.000000</td>\n",
       "      <td>3.000000</td>\n",
       "      <td>2.000000</td>\n",
       "      <td>1.000000</td>\n",
       "      <td>1.000000</td>\n",
       "    </tr>\n",
       "  </tbody>\n",
       "</table>\n",
       "</div>"
      ],
      "text/plain": [
       "              Year  Selling_Price  Present_Price     Driven_kms       Owner  \\\n",
       "count   301.000000     301.000000     301.000000     301.000000  301.000000   \n",
       "mean   2013.627907       4.611296       7.710963   36947.205980    0.043189   \n",
       "std       2.891554       5.129497       8.649827   38886.883882    0.247915   \n",
       "min    2003.000000       0.000000       0.000000     500.000000    0.000000   \n",
       "25%    2012.000000       1.000000       1.000000   15000.000000    0.000000   \n",
       "50%    2014.000000       4.000000       6.000000   32000.000000    0.000000   \n",
       "75%    2016.000000       6.000000      10.000000   48767.000000    0.000000   \n",
       "max    2018.000000      35.000000      93.000000  500000.000000    3.000000   \n",
       "\n",
       "       Fuel_encoded  Transmission_encoded  Sellingtype_encoded  \n",
       "count    301.000000            301.000000           301.000000  \n",
       "mean       1.787375              0.867110             0.352159  \n",
       "std        0.425801              0.340021             0.478439  \n",
       "min        0.000000              0.000000             0.000000  \n",
       "25%        2.000000              1.000000             0.000000  \n",
       "50%        2.000000              1.000000             0.000000  \n",
       "75%        2.000000              1.000000             1.000000  \n",
       "max        2.000000              1.000000             1.000000  "
      ]
     },
     "execution_count": 23,
     "metadata": {},
     "output_type": "execute_result"
    }
   ],
   "source": [
    "data.describe()"
   ]
  },
  {
   "cell_type": "code",
   "execution_count": 24,
   "id": "10a6746d",
   "metadata": {},
   "outputs": [
    {
     "data": {
      "text/html": [
       "<div>\n",
       "<style scoped>\n",
       "    .dataframe tbody tr th:only-of-type {\n",
       "        vertical-align: middle;\n",
       "    }\n",
       "\n",
       "    .dataframe tbody tr th {\n",
       "        vertical-align: top;\n",
       "    }\n",
       "\n",
       "    .dataframe thead th {\n",
       "        text-align: right;\n",
       "    }\n",
       "</style>\n",
       "<table border=\"1\" class=\"dataframe\">\n",
       "  <thead>\n",
       "    <tr style=\"text-align: right;\">\n",
       "      <th></th>\n",
       "      <th>count</th>\n",
       "      <th>mean</th>\n",
       "      <th>std</th>\n",
       "      <th>min</th>\n",
       "      <th>25%</th>\n",
       "      <th>50%</th>\n",
       "      <th>75%</th>\n",
       "      <th>max</th>\n",
       "    </tr>\n",
       "  </thead>\n",
       "  <tbody>\n",
       "    <tr>\n",
       "      <th>Year</th>\n",
       "      <td>301.0</td>\n",
       "      <td>2013.627907</td>\n",
       "      <td>2.891554</td>\n",
       "      <td>2003.0</td>\n",
       "      <td>2012.0</td>\n",
       "      <td>2014.0</td>\n",
       "      <td>2016.0</td>\n",
       "      <td>2018.0</td>\n",
       "    </tr>\n",
       "    <tr>\n",
       "      <th>Selling_Price</th>\n",
       "      <td>301.0</td>\n",
       "      <td>4.611296</td>\n",
       "      <td>5.129497</td>\n",
       "      <td>0.0</td>\n",
       "      <td>1.0</td>\n",
       "      <td>4.0</td>\n",
       "      <td>6.0</td>\n",
       "      <td>35.0</td>\n",
       "    </tr>\n",
       "    <tr>\n",
       "      <th>Present_Price</th>\n",
       "      <td>301.0</td>\n",
       "      <td>7.710963</td>\n",
       "      <td>8.649827</td>\n",
       "      <td>0.0</td>\n",
       "      <td>1.0</td>\n",
       "      <td>6.0</td>\n",
       "      <td>10.0</td>\n",
       "      <td>93.0</td>\n",
       "    </tr>\n",
       "    <tr>\n",
       "      <th>Driven_kms</th>\n",
       "      <td>301.0</td>\n",
       "      <td>36947.205980</td>\n",
       "      <td>38886.883882</td>\n",
       "      <td>500.0</td>\n",
       "      <td>15000.0</td>\n",
       "      <td>32000.0</td>\n",
       "      <td>48767.0</td>\n",
       "      <td>500000.0</td>\n",
       "    </tr>\n",
       "    <tr>\n",
       "      <th>Owner</th>\n",
       "      <td>301.0</td>\n",
       "      <td>0.043189</td>\n",
       "      <td>0.247915</td>\n",
       "      <td>0.0</td>\n",
       "      <td>0.0</td>\n",
       "      <td>0.0</td>\n",
       "      <td>0.0</td>\n",
       "      <td>3.0</td>\n",
       "    </tr>\n",
       "    <tr>\n",
       "      <th>Fuel_encoded</th>\n",
       "      <td>301.0</td>\n",
       "      <td>1.787375</td>\n",
       "      <td>0.425801</td>\n",
       "      <td>0.0</td>\n",
       "      <td>2.0</td>\n",
       "      <td>2.0</td>\n",
       "      <td>2.0</td>\n",
       "      <td>2.0</td>\n",
       "    </tr>\n",
       "    <tr>\n",
       "      <th>Transmission_encoded</th>\n",
       "      <td>301.0</td>\n",
       "      <td>0.867110</td>\n",
       "      <td>0.340021</td>\n",
       "      <td>0.0</td>\n",
       "      <td>1.0</td>\n",
       "      <td>1.0</td>\n",
       "      <td>1.0</td>\n",
       "      <td>1.0</td>\n",
       "    </tr>\n",
       "    <tr>\n",
       "      <th>Sellingtype_encoded</th>\n",
       "      <td>301.0</td>\n",
       "      <td>0.352159</td>\n",
       "      <td>0.478439</td>\n",
       "      <td>0.0</td>\n",
       "      <td>0.0</td>\n",
       "      <td>0.0</td>\n",
       "      <td>1.0</td>\n",
       "      <td>1.0</td>\n",
       "    </tr>\n",
       "  </tbody>\n",
       "</table>\n",
       "</div>"
      ],
      "text/plain": [
       "                      count          mean           std     min      25%  \\\n",
       "Year                  301.0   2013.627907      2.891554  2003.0   2012.0   \n",
       "Selling_Price         301.0      4.611296      5.129497     0.0      1.0   \n",
       "Present_Price         301.0      7.710963      8.649827     0.0      1.0   \n",
       "Driven_kms            301.0  36947.205980  38886.883882   500.0  15000.0   \n",
       "Owner                 301.0      0.043189      0.247915     0.0      0.0   \n",
       "Fuel_encoded          301.0      1.787375      0.425801     0.0      2.0   \n",
       "Transmission_encoded  301.0      0.867110      0.340021     0.0      1.0   \n",
       "Sellingtype_encoded   301.0      0.352159      0.478439     0.0      0.0   \n",
       "\n",
       "                          50%      75%       max  \n",
       "Year                   2014.0   2016.0    2018.0  \n",
       "Selling_Price             4.0      6.0      35.0  \n",
       "Present_Price             6.0     10.0      93.0  \n",
       "Driven_kms            32000.0  48767.0  500000.0  \n",
       "Owner                     0.0      0.0       3.0  \n",
       "Fuel_encoded              2.0      2.0       2.0  \n",
       "Transmission_encoded      1.0      1.0       1.0  \n",
       "Sellingtype_encoded       0.0      1.0       1.0  "
      ]
     },
     "execution_count": 24,
     "metadata": {},
     "output_type": "execute_result"
    }
   ],
   "source": [
    "data.describe().T"
   ]
  },
  {
   "cell_type": "code",
   "execution_count": 25,
   "id": "8743cd7b",
   "metadata": {},
   "outputs": [
    {
     "data": {
      "text/plain": [
       "array([7.59583333])"
      ]
     },
     "execution_count": 25,
     "metadata": {},
     "output_type": "execute_result"
    }
   ],
   "source": [
    "lr.intercept_"
   ]
  },
  {
   "cell_type": "code",
   "execution_count": 26,
   "id": "f9527fdc",
   "metadata": {},
   "outputs": [],
   "source": [
    "coeff= lr.coef_.T"
   ]
  },
  {
   "cell_type": "code",
   "execution_count": 27,
   "id": "dc24c216",
   "metadata": {},
   "outputs": [
    {
     "data": {
      "text/plain": [
       "array([[-1.95124234],\n",
       "       [ 8.73502645],\n",
       "       [ 0.46848771],\n",
       "       [ 0.58344938],\n",
       "       [ 0.33520624],\n",
       "       [ 0.16931754],\n",
       "       [ 0.1475348 ]])"
      ]
     },
     "execution_count": 27,
     "metadata": {},
     "output_type": "execute_result"
    }
   ],
   "source": [
    "coeff"
   ]
  },
  {
   "cell_type": "code",
   "execution_count": 28,
   "id": "e6a7e9ba",
   "metadata": {},
   "outputs": [
    {
     "data": {
      "text/plain": [
       "Index(['Year', 'Selling_Price', 'Driven_kms', 'Owner', 'Fuel_encoded',\n",
       "       'Transmission_encoded', 'Sellingtype_encoded'],\n",
       "      dtype='object')"
      ]
     },
     "execution_count": 28,
     "metadata": {},
     "output_type": "execute_result"
    }
   ],
   "source": [
    "X.columns"
   ]
  },
  {
   "cell_type": "code",
   "execution_count": 29,
   "id": "93167187",
   "metadata": {},
   "outputs": [
    {
     "data": {
      "text/html": [
       "<div>\n",
       "<style scoped>\n",
       "    .dataframe tbody tr th:only-of-type {\n",
       "        vertical-align: middle;\n",
       "    }\n",
       "\n",
       "    .dataframe tbody tr th {\n",
       "        vertical-align: top;\n",
       "    }\n",
       "\n",
       "    .dataframe thead th {\n",
       "        text-align: right;\n",
       "    }\n",
       "</style>\n",
       "<table border=\"1\" class=\"dataframe\">\n",
       "  <thead>\n",
       "    <tr style=\"text-align: right;\">\n",
       "      <th></th>\n",
       "      <th>Coefficient</th>\n",
       "    </tr>\n",
       "  </thead>\n",
       "  <tbody>\n",
       "    <tr>\n",
       "      <th>Year</th>\n",
       "      <td>-1.951242</td>\n",
       "    </tr>\n",
       "    <tr>\n",
       "      <th>Selling_Price</th>\n",
       "      <td>8.735026</td>\n",
       "    </tr>\n",
       "    <tr>\n",
       "      <th>Driven_kms</th>\n",
       "      <td>0.468488</td>\n",
       "    </tr>\n",
       "    <tr>\n",
       "      <th>Owner</th>\n",
       "      <td>0.583449</td>\n",
       "    </tr>\n",
       "    <tr>\n",
       "      <th>Fuel_encoded</th>\n",
       "      <td>0.335206</td>\n",
       "    </tr>\n",
       "    <tr>\n",
       "      <th>Transmission_encoded</th>\n",
       "      <td>0.169318</td>\n",
       "    </tr>\n",
       "    <tr>\n",
       "      <th>Sellingtype_encoded</th>\n",
       "      <td>0.147535</td>\n",
       "    </tr>\n",
       "  </tbody>\n",
       "</table>\n",
       "</div>"
      ],
      "text/plain": [
       "                      Coefficient\n",
       "Year                    -1.951242\n",
       "Selling_Price            8.735026\n",
       "Driven_kms               0.468488\n",
       "Owner                    0.583449\n",
       "Fuel_encoded             0.335206\n",
       "Transmission_encoded     0.169318\n",
       "Sellingtype_encoded      0.147535"
      ]
     },
     "execution_count": 29,
     "metadata": {},
     "output_type": "execute_result"
    }
   ],
   "source": [
    " pd.DataFrame(coeff,X.columns,columns=['Coefficient'])"
   ]
  },
  {
   "cell_type": "code",
   "execution_count": 30,
   "id": "eed6306d",
   "metadata": {},
   "outputs": [],
   "source": [
    "predictions= lr.predict(X_test)"
   ]
  },
  {
   "cell_type": "code",
   "execution_count": 31,
   "id": "38118693",
   "metadata": {},
   "outputs": [
    {
     "data": {
      "text/plain": [
       "array([[-2.06245747e+00],\n",
       "       [ 1.48478006e+01],\n",
       "       [ 8.89088776e+00],\n",
       "       [ 4.12876356e+00],\n",
       "       [ 1.21511228e+01],\n",
       "       [ 1.00301056e+01],\n",
       "       [ 8.34944040e-01],\n",
       "       [-3.74370018e-01],\n",
       "       [-1.66266152e+00],\n",
       "       [ 9.05223633e+00],\n",
       "       [ 1.09151077e+01],\n",
       "       [ 2.26905933e+00],\n",
       "       [ 1.23661173e+01],\n",
       "       [-2.99488565e+00],\n",
       "       [ 9.73003373e+00],\n",
       "       [ 5.68548595e+00],\n",
       "       [ 2.70568661e+00],\n",
       "       [ 2.59408390e+01],\n",
       "       [-2.40103187e+00],\n",
       "       [ 8.88607346e-01],\n",
       "       [ 3.48296237e-01],\n",
       "       [ 1.07802654e+01],\n",
       "       [ 8.58041769e+00],\n",
       "       [ 6.54155572e+00],\n",
       "       [ 1.50152422e+00],\n",
       "       [ 7.71721814e+00],\n",
       "       [ 8.96804711e+00],\n",
       "       [ 6.79955167e+00],\n",
       "       [-6.88908974e-01],\n",
       "       [ 6.74089254e-02],\n",
       "       [ 2.07836668e+00],\n",
       "       [ 1.26245494e+01],\n",
       "       [ 2.54994665e+00],\n",
       "       [ 7.31600049e+00],\n",
       "       [ 1.10446103e+01],\n",
       "       [ 6.36162335e+00],\n",
       "       [ 1.08248609e+01],\n",
       "       [ 1.00534751e+01],\n",
       "       [ 5.59964060e+00],\n",
       "       [ 1.09262727e+01],\n",
       "       [ 1.29104885e+01],\n",
       "       [ 1.03806750e+01],\n",
       "       [ 6.18214791e+00],\n",
       "       [ 7.01529060e-03],\n",
       "       [ 8.24464454e+00],\n",
       "       [ 2.25784212e+00],\n",
       "       [ 9.78952596e+00],\n",
       "       [ 1.07508211e+01],\n",
       "       [ 6.98333467e+00],\n",
       "       [ 5.43222755e+00],\n",
       "       [ 8.22609244e+00],\n",
       "       [-7.66307757e-01],\n",
       "       [ 3.82185338e+01],\n",
       "       [ 3.48187865e+01],\n",
       "       [ 1.19285913e+01],\n",
       "       [ 1.62428320e+01],\n",
       "       [ 8.71201432e+00],\n",
       "       [ 1.43139239e+01],\n",
       "       [ 8.58697261e+00],\n",
       "       [ 9.32598272e+00],\n",
       "       [ 5.50206106e-01]])"
      ]
     },
     "execution_count": 31,
     "metadata": {},
     "output_type": "execute_result"
    }
   ],
   "source": [
    "predictions"
   ]
  },
  {
   "cell_type": "code",
   "execution_count": 32,
   "id": "c0b7f200",
   "metadata": {},
   "outputs": [],
   "source": [
    "import numpy as np"
   ]
  },
  {
   "cell_type": "code",
   "execution_count": 33,
   "id": "b053af15",
   "metadata": {},
   "outputs": [],
   "source": [
    "from sklearn.metrics import r2_score"
   ]
  },
  {
   "cell_type": "code",
   "execution_count": 34,
   "id": "60cfce3c",
   "metadata": {},
   "outputs": [
    {
     "data": {
      "text/plain": [
       "0.786159021729525"
      ]
     },
     "execution_count": 34,
     "metadata": {},
     "output_type": "execute_result"
    }
   ],
   "source": [
    "r2_score(y_test, predictions)"
   ]
  },
  {
   "cell_type": "code",
   "execution_count": 35,
   "id": "e3af5729",
   "metadata": {},
   "outputs": [],
   "source": [
    "import statsmodels.api as sm"
   ]
  },
  {
   "cell_type": "code",
   "execution_count": 36,
   "id": "24f951d6",
   "metadata": {},
   "outputs": [],
   "source": [
    "# Add a aconstant term to the input data\n",
    "X_train =sm.add_constant(X_train)"
   ]
  },
  {
   "cell_type": "code",
   "execution_count": 37,
   "id": "1c708708",
   "metadata": {},
   "outputs": [],
   "source": [
    "model=sm.OLS(y_train,X_train)\n",
    "results=model.fit()"
   ]
  },
  {
   "cell_type": "code",
   "execution_count": 38,
   "id": "f27bb1fa",
   "metadata": {},
   "outputs": [
    {
     "data": {
      "text/plain": [
       "const    7.595833\n",
       "x1      -1.951242\n",
       "x2       8.735026\n",
       "x3       0.468488\n",
       "x4       0.583449\n",
       "x5       0.335206\n",
       "x6       0.169318\n",
       "x7       0.147535\n",
       "dtype: float64"
      ]
     },
     "execution_count": 38,
     "metadata": {},
     "output_type": "execute_result"
    }
   ],
   "source": [
    "results.params"
   ]
  },
  {
   "cell_type": "code",
   "execution_count": 39,
   "id": "4bb825b3",
   "metadata": {},
   "outputs": [
    {
     "name": "stdout",
     "output_type": "stream",
     "text": [
      "                            OLS Regression Results                            \n",
      "==============================================================================\n",
      "Dep. Variable:          Present_Price   R-squared:                       0.848\n",
      "Model:                            OLS   Adj. R-squared:                  0.843\n",
      "Method:                 Least Squares   F-statistic:                     184.4\n",
      "Date:                Thu, 03 Apr 2025   Prob (F-statistic):           4.76e-91\n",
      "Time:                        11:55:34   Log-Likelihood:                -641.47\n",
      "No. Observations:                 240   AIC:                             1299.\n",
      "Df Residuals:                     232   BIC:                             1327.\n",
      "Df Model:                           7                                         \n",
      "Covariance Type:            nonrobust                                         \n",
      "==============================================================================\n",
      "                 coef    std err          t      P>|t|      [0.025      0.975]\n",
      "------------------------------------------------------------------------------\n",
      "const          7.5958      0.230     33.020      0.000       7.143       8.049\n",
      "x1            -1.9512      0.283     -6.903      0.000      -2.508      -1.394\n",
      "x2             8.7350      0.342     25.562      0.000       8.062       9.408\n",
      "x3             0.4685      0.279      1.679      0.095      -0.081       1.018\n",
      "x4             0.5834      0.237      2.465      0.014       0.117       1.050\n",
      "x5             0.3352      0.275      1.218      0.225      -0.207       0.878\n",
      "x6             0.1693      0.260      0.651      0.516      -0.343       0.682\n",
      "x7             0.1475      0.282      0.523      0.602      -0.408       0.703\n",
      "==============================================================================\n",
      "Omnibus:                      204.041   Durbin-Watson:                   2.259\n",
      "Prob(Omnibus):                  0.000   Jarque-Bera (JB):             9044.713\n",
      "Skew:                           2.884   Prob(JB):                         0.00\n",
      "Kurtosis:                      32.516   Cond. No.                         2.66\n",
      "==============================================================================\n",
      "\n",
      "Notes:\n",
      "[1] Standard Errors assume that the covariance matrix of the errors is correctly specified.\n"
     ]
    }
   ],
   "source": [
    "print(results.summary())"
   ]
  }
 ],
 "metadata": {
  "kernelspec": {
   "display_name": "Python 3 (ipykernel)",
   "language": "python",
   "name": "python3"
  },
  "language_info": {
   "codemirror_mode": {
    "name": "ipython",
    "version": 3
   },
   "file_extension": ".py",
   "mimetype": "text/x-python",
   "name": "python",
   "nbconvert_exporter": "python",
   "pygments_lexer": "ipython3",
   "version": "3.9.12"
  }
 },
 "nbformat": 4,
 "nbformat_minor": 5
}
